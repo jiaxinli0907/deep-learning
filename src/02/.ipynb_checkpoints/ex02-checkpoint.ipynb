{
 "cells": [
  {
   "cell_type": "markdown",
   "metadata": {},
   "source": [
    "# Deep Learning Programming Ex 02: Multi-Class SVM\n",
    "\n",
    "In this exercise you will:\n",
    "\n",
    "- Build the general architecture of a multi-class SVM, including:\n",
    "    - Calculating the cost function and its gradient\n",
    "    - Find the optimal hyperparameters by cross validation\n",
    "\n",
    "Instruction:\n",
    "\n",
    "- Run each cell and read the comments carefully (in the right order)\n",
    "- Implement the missing codes that are required"
   ]
  },
  {
   "cell_type": "markdown",
   "metadata": {},
   "source": [
    "# Load Required Libraries [0pt]"
   ]
  },
  {
   "cell_type": "code",
   "execution_count": 1,
   "metadata": {},
   "outputs": [],
   "source": [
    "import random\n",
    "import numpy as np\n",
    "from utils.data_utils import load_CIFAR10\n",
    "import matplotlib.pyplot as plt\n",
    "import time"
   ]
  },
  {
   "cell_type": "markdown",
   "metadata": {},
   "source": [
    "## CIFAR-10 load data [0pt]\n",
    "\n",
    "Run the next cell to define a data helper function that does some basic preprocessing."
   ]
  },
  {
   "cell_type": "code",
   "execution_count": 2,
   "metadata": {},
   "outputs": [
    {
     "name": "stdout",
     "output_type": "stream",
     "text": [
      "Train data shape:  (49000, 3073)\n",
      "Train labels shape:  (49000,)\n",
      "Validation data shape:  (1000, 3073)\n",
      "Validation labels shape:  (1000,)\n",
      "Test data shape:  (1000, 3073)\n",
      "Test labels shape:  (1000,)\n",
      "dev data shape:  (500, 3073)\n",
      "dev labels shape:  (500,)\n"
     ]
    }
   ],
   "source": [
    "def get_CIFAR10_data(num_training=49000, num_validation=1000, num_test=1000, num_dev=500):\n",
    "    \"\"\"\n",
    "    Load the CIFAR-10 dataset from disk and perform preprocessing to prepare\n",
    "    it for the linear classifier. These are the same steps as we used for the\n",
    "    SVM, but condensed to a single function.  \n",
    "    \"\"\"\n",
    "    # Load the raw CIFAR-10 data\n",
    "    cifar10_dir = '../../data/cifar/'\n",
    "    X_train, y_train, X_test, y_test = load_CIFAR10(cifar10_dir)\n",
    "    \n",
    "    # subsample the data\n",
    "    mask = list(range(num_training, num_training + num_validation))\n",
    "    X_val = X_train[mask]\n",
    "    y_val = y_train[mask]\n",
    "    mask = list(range(num_training))\n",
    "    X_train = X_train[mask]\n",
    "    y_train = y_train[mask]\n",
    "    mask = list(range(num_test))\n",
    "    X_test = X_test[mask]\n",
    "    y_test = y_test[mask]\n",
    "    mask = np.random.choice(num_training, num_dev, replace=False)\n",
    "    X_dev = X_train[mask]\n",
    "    y_dev = y_train[mask]\n",
    "    \n",
    "    # Preprocessing: reshape the image data into rows\n",
    "    X_train = np.reshape(X_train, (X_train.shape[0], -1))\n",
    "    X_val = np.reshape(X_val, (X_val.shape[0], -1))\n",
    "    X_test = np.reshape(X_test, (X_test.shape[0], -1))\n",
    "    X_dev = np.reshape(X_dev, (X_dev.shape[0], -1))\n",
    "    \n",
    "    # Normalize the data: subtract the mean image\n",
    "    mean_image = np.mean(X_train, axis = 0)\n",
    "    X_train -= mean_image\n",
    "    X_val -= mean_image\n",
    "    X_test -= mean_image\n",
    "    X_dev -= mean_image\n",
    "    \n",
    "    # add bias dimension and transform into columns\n",
    "    X_train = np.hstack([X_train, np.ones((X_train.shape[0], 1))])\n",
    "    X_val = np.hstack([X_val, np.ones((X_val.shape[0], 1))])\n",
    "    X_test = np.hstack([X_test, np.ones((X_test.shape[0], 1))])\n",
    "    X_dev = np.hstack([X_dev, np.ones((X_dev.shape[0], 1))])\n",
    "    \n",
    "    return X_train, y_train, X_val, y_val, X_test, y_test, X_dev, y_dev\n",
    "\n",
    "\n",
    "# Invoke the above function to get our data.\n",
    "X_train, y_train, X_val, y_val, X_test, y_test, X_dev, y_dev = get_CIFAR10_data()\n",
    "print('Train data shape: ', X_train.shape)\n",
    "print('Train labels shape: ', y_train.shape)\n",
    "print('Validation data shape: ', X_val.shape)\n",
    "print('Validation labels shape: ', y_val.shape)\n",
    "print('Test data shape: ', X_test.shape)\n",
    "print('Test labels shape: ', y_test.shape)\n",
    "print('dev data shape: ', X_dev.shape)\n",
    "print('dev labels shape: ', y_dev.shape)"
   ]
  },
  {
   "cell_type": "markdown",
   "metadata": {},
   "source": [
    "## Task 1: Multi-Class SVM - Loss Function and Gradients [5pt]\n",
    "\n",
    "Complete the implementation of svm_loss_naive by implementing a naive analytical gradient descent that uses nested loops."
   ]
  },
  {
   "cell_type": "code",
   "execution_count": 3,
   "metadata": {},
   "outputs": [],
   "source": [
    "def svm_loss_naive(W, X, y, reg):\n",
    "    \"\"\"\n",
    "    Structured SVM loss function, naive implementation (with loops).\n",
    "\n",
    "    Inputs have dimension D, there are C classes, and we operate on minibatches\n",
    "    of N examples.\n",
    "\n",
    "    Inputs:\n",
    "    - W: A numpy array of shape (D, C) containing weights.\n",
    "    - X: A numpy array of shape (N, D) containing a minibatch of data.\n",
    "    - y: A numpy array of shape (N,) containing training labels; y[i] = c means\n",
    "         that X[i] has label c, where 0 <= c < C.\n",
    "    - reg: (float) regularization strength\n",
    "\n",
    "    Returns a tuple of:\n",
    "    - loss as single float\n",
    "    - gradient with respect to weights W; an array of same shape as W\n",
    "    \"\"\"\n",
    "    dW = np.zeros(W.shape) # initialize the gradient as zero\n",
    "    num_classes = W.shape[1]\n",
    "    num_samples = X.shape[0]\n",
    "\n",
    "    #############################################################################\n",
    "    # TODO: Compute the multi-class svm loss and its gradient using explicit    #\n",
    "    # loops. Store the loss in loss and the gradient in dW. Don't forget the    #\n",
    "    # regularization!                                                           #\n",
    "    #############################################################################\n",
    "\n",
    "    loss = 0.0\n",
    "    margin = 1.0\n",
    "\n",
    "    for i in range(num_samples):\n",
    "        score = X[i].dot(W)\n",
    "        corr_score = score[y[i]]\n",
    "\n",
    "        for j in range(num_classes):\n",
    "            if y[i] == j:\n",
    "                continue\n",
    "            condi = score[j] - corr_score + margin\n",
    "            if(condi > 0):                        \n",
    "                loss += condi\n",
    "                dW[:,y[i]] -= X[i]\n",
    "                dW[:,j] += X[i]\n",
    "\n",
    "                \n",
    "\n",
    "    loss /= num_samples\n",
    "    dW /= num_samples\n",
    "  \n",
    "    loss += reg * np.sum(W * W)*0.5\n",
    "    dW += reg*W\n",
    "\n",
    "    \n",
    "    #############################################################################\n",
    "    #                         END OF YOUR CODE                                  #\n",
    "    #############################################################################\n",
    "    return loss, dW"
   ]
  },
  {
   "cell_type": "markdown",
   "metadata": {},
   "source": [
    "# Check: Gradients [0pt] \n",
    "\n",
    "The next cell is a self-check for you to make sure your SVM implementation works!\n",
    "It compares your analytical gradients to numerically calculated gradients.\n",
    "The numerical and analytical values should be the same up to printing accurracy,\n",
    "relative error should be smaller than $10^{-7}$."
   ]
  },
  {
   "cell_type": "code",
   "execution_count": 4,
   "metadata": {},
   "outputs": [
    {
     "name": "stdout",
     "output_type": "stream",
     "text": [
      "numerical: 9.456811,\tanalytic: 9.456811,\trelative error: 5.449206e-12\n",
      "numerical: -0.521001,\tanalytic: -0.521001,\trelative error: 3.343424e-10\n",
      "numerical: 32.406290,\tanalytic: 32.406290,\trelative error: 6.023860e-12\n",
      "numerical: 17.152531,\tanalytic: 17.152531,\trelative error: 1.661855e-11\n",
      "numerical: 25.044385,\tanalytic: 25.053144,\trelative error: 1.748465e-04\n",
      "numerical: 11.318550,\tanalytic: 11.318550,\trelative error: 2.385198e-11\n",
      "numerical: 17.342336,\tanalytic: 17.342336,\trelative error: 1.641936e-12\n",
      "numerical: -8.127915,\tanalytic: -8.127915,\trelative error: 4.079697e-11\n",
      "numerical: 12.002322,\tanalytic: 12.019054,\trelative error: 6.965502e-04\n",
      "numerical: 7.764880,\tanalytic: 7.764880,\trelative error: 3.412294e-11\n",
      "numerical: -18.872501,\tanalytic: -18.872501,\trelative error: 4.893699e-12\n",
      "numerical: 12.071560,\tanalytic: 12.071560,\trelative error: 4.690551e-12\n",
      "numerical: -4.253271,\tanalytic: -4.231845,\trelative error: 2.525172e-03\n",
      "numerical: 15.056449,\tanalytic: 15.056449,\trelative error: 1.530977e-11\n",
      "numerical: 20.880069,\tanalytic: 20.884698,\trelative error: 1.108510e-04\n",
      "numerical: -17.444804,\tanalytic: -17.444804,\trelative error: 6.524786e-12\n",
      "numerical: 10.330291,\tanalytic: 10.330291,\trelative error: 3.602085e-11\n",
      "numerical: -6.780074,\tanalytic: -6.780074,\trelative error: 3.219120e-11\n",
      "numerical: -7.907106,\tanalytic: -7.907106,\trelative error: 3.124876e-11\n",
      "numerical: -1.489184,\tanalytic: -1.489184,\trelative error: 2.736602e-10\n"
     ]
    }
   ],
   "source": [
    "# Compute the loss and its gradient at W.\n",
    "W = np.random.randn(3073, 10) * 0.0001 \n",
    "loss, grad = svm_loss_naive(W, X_dev, y_dev, 0.0)\n",
    "\n",
    "# Numerically compute the gradient along several randomly chosen dimensions, and\n",
    "# compare them with your analytically computed gradient. The numbers should match\n",
    "# almost exactly along all dimensions.\n",
    "from utils.gradient_check import grad_check_sparse\n",
    "f = lambda w: svm_loss_naive(w, X_dev, y_dev, 0.0)[0]\n",
    "grad_numerical = grad_check_sparse(f, W, grad)\n",
    "\n",
    "# do the gradient check once again with regularization turned on\n",
    "# you didn't forget the regularization gradient did you?\n",
    "loss, grad = svm_loss_naive(W, X_dev, y_dev, 5e1)\n",
    "f = lambda w: svm_loss_naive(w, X_dev, y_dev, 5e1)[0]\n",
    "grad_numerical = grad_check_sparse(f, W, grad)"
   ]
  },
  {
   "cell_type": "markdown",
   "metadata": {},
   "source": [
    "# Task 2: Multi-Class SVM [5pt]\n",
    "\n",
    "Implement a vectorized version of the SVM loss function."
   ]
  },
  {
   "cell_type": "code",
   "execution_count": 5,
   "metadata": {},
   "outputs": [],
   "source": [
    "def svm_loss_vectorized(W, X, y, reg):\n",
    "    \"\"\"\n",
    "    Structured SVM loss function, vectorized implementation.\n",
    "\n",
    "    Inputs and outputs are the same as svm_loss_naive.\n",
    "    \"\"\"\n",
    "    loss = 0.0\n",
    "    dW = np.zeros(W.shape) # initialize the gradient as zero\n",
    "\n",
    "    #############################################################################\n",
    "    # TODO:                                                                     #\n",
    "    # Implement a vectorized version of the structured SVM loss, storing the    #\n",
    "    # result in loss.                                                           #\n",
    "    #############################################################################\n",
    "\n",
    "    num_samples = X.shape[0]\n",
    "    score = X.dot(W)\n",
    "    corr_score = score[np.arange(score.shape[0]),y]\n",
    "    corr_score = np.reshape(corr_score, (X.shape[0], -1))\n",
    "\n",
    "    margin = np.ones(score.shape)\n",
    "    \n",
    "    condi = score - corr_score + margin\n",
    "    condi[np.arange(score.shape[0]),y] = 0\n",
    "    condi[condi < 0] = 0\n",
    "    loss = np.sum(condi)\n",
    "    \n",
    "    loss /= num_samples\n",
    "    loss += reg * np.sum(W * W)*0.5\n",
    "    \n",
    "  \n",
    "    #############################################################################\n",
    "    #                             END OF YOUR CODE                              #\n",
    "    #############################################################################\n",
    "\n",
    "\n",
    "    #############################################################################\n",
    "    # TODO:                                                                     #\n",
    "    # Implement a vectorized version of the gradient for the structured SVM     #\n",
    "    # loss, storing the result in dW.                                           #\n",
    "    #                                                                           #\n",
    "    # Hint: Instead of computing the gradient from scratch, it may be easier    #\n",
    "    # to reuse some of the intermediate values that you used to compute the     #\n",
    "    # loss.                                                                     #\n",
    "    #############################################################################\n",
    "\n",
    "    condi[condi > 0] = 1\n",
    "    condi[np.arange(score.shape[0]),y] = -1 * np.sum(condi,axis = 1)\n",
    "\n",
    "    dW = X.T.dot(condi)\n",
    "    dW /= num_samples\n",
    "    dW += reg*W\n",
    "\n",
    "    #############################################################################\n",
    "    #                             END OF YOUR CODE                              #\n",
    "    #############################################################################\n",
    "\n",
    "    return loss, dW"
   ]
  },
  {
   "cell_type": "markdown",
   "metadata": {},
   "source": [
    "# Check: Performance Comparison [0pt]\n",
    "\n",
    "Execute the cell below to run a performance comparison between the naive implementation using loops\n",
    "and the optimized version using vectorized instructions.\n",
    "The two versions should compute the same results, but the vectorized version should be much faster."
   ]
  },
  {
   "cell_type": "code",
   "execution_count": 6,
   "metadata": {},
   "outputs": [
    {
     "name": "stdout",
     "output_type": "stream",
     "text": [
      "Naive loss: 8.866969e+00 computed in -0.103723s\n",
      "Vectorized loss: 8.866969e+00 computed in -0.033708s\n",
      "Loss difference: 0.000000\n",
      "Gradient difference: 0.000000\n",
      "Runtime abs. difference: 0.070015 seconds\n",
      "Runtime rel. improvement: 0.675018 percent\n"
     ]
    }
   ],
   "source": [
    "tic = time.time()\n",
    "loss_naive, grad_naive = svm_loss_naive(W, X_dev, y_dev, 0.000005)\n",
    "toc = time.time()\n",
    "diff = tic - toc\n",
    "print('Naive loss: %e computed in %fs' % (loss_naive, diff))\n",
    "\n",
    "tic = time.time()\n",
    "loss_vectorized, grad_vectorized = svm_loss_vectorized(W, X_dev, y_dev, 0.000005)\n",
    "toc = time.time()\n",
    "diff_vec = tic - toc\n",
    "print('Vectorized loss: %e computed in %fs' % (loss_vectorized, diff_vec))\n",
    "\n",
    "# As we did for the SVM, we use the Frobenius norm to compare the two versions\n",
    "# of the gradient.\n",
    "grad_difference = np.linalg.norm(grad_naive - grad_vectorized, ord='fro')\n",
    "print('Loss difference: %f' % np.abs(loss_naive - loss_vectorized))\n",
    "print('Gradient difference: %f' % grad_difference)\n",
    "print('Runtime abs. difference: %f seconds' % (diff_vec - diff))\n",
    "print('Runtime rel. improvement: %f percent' % (1 - (diff_vec / diff)))"
   ]
  },
  {
   "cell_type": "markdown",
   "metadata": {},
   "source": [
    "# Stochastic Gradient Descent [0pt]\n",
    "\n",
    "You already implemented this in the last exercise. Please run the cell below to define this function in the current namespace."
   ]
  },
  {
   "cell_type": "code",
   "execution_count": 7,
   "metadata": {},
   "outputs": [],
   "source": [
    "# train multi-class svm by SGD, implemented in last assignment\n",
    "def train_SGD(X, y, learning_rate=1e-3, reg=1e-5, num_iters=100,\n",
    "            batch_size=200, verbose=False):\n",
    "    \"\"\"\n",
    "    Train this linear classifier using stochastic gradient descent.\n",
    "\n",
    "    Inputs:\n",
    "    - X: A numpy array of shape (N, D) containing training data; there are N\n",
    "      training samples each of dimension D.\n",
    "    - y: A numpy array of shape (N,) containing training labels; y[i] = c\n",
    "      means that X[i] has label 0 <= c < C for C classes.\n",
    "    - learning_rate: (float) learning rate for optimization.\n",
    "    - reg: (float) regularization strength.\n",
    "    - num_iters: (integer) number of steps to take when optimizing\n",
    "    - batch_size: (integer) number of training examples to use at each step.\n",
    "    - verbose: (boolean) If true, print progress during optimization.\n",
    "\n",
    "    Outputs:\n",
    "    W: A numpy array of shape (D, C) containing weights\n",
    "    loss_history: A list containing the value of the loss function at each training iteration.\n",
    "    \"\"\"\n",
    "    num_train, dim = X.shape\n",
    "    num_classes = np.max(y) + 1 # assume y takes values 0...K-1 where K is number of classes\n",
    "   \n",
    "    # Generate a random softmax weight matrix\n",
    "    W = 0.001 * np.random.randn(dim, num_classes)\n",
    "\n",
    "    # Run stochastic gradient descent to optimize W\n",
    "    loss_history = []\n",
    "    for it in range(num_iters):\n",
    "        X_batch = None\n",
    "        y_batch = None\n",
    "        p = np.random.choice(num_train, batch_size)\n",
    "        X_batch = X[p,:]\n",
    "        y_batch = y[p]\n",
    "  \n",
    "\n",
    "        # evaluate loss and gradient\n",
    "        loss, grad = svm_loss_vectorized(W,X_batch, y_batch, reg)\n",
    "        loss_history.append(loss)\n",
    " \n",
    "        W -= learning_rate*grad\n",
    "\n",
    "        if verbose and it % 100 == 0:\n",
    "            print('iteration %d / %d: loss %f' % (it, num_iters, loss))\n",
    "\n",
    "    return W, loss_history"
   ]
  },
  {
   "cell_type": "markdown",
   "metadata": {},
   "source": [
    "# SVM Training [0pt]\n",
    "\n",
    "Run the next cell to train a SVM classifier using stochastic gradient descent."
   ]
  },
  {
   "cell_type": "code",
   "execution_count": 8,
   "metadata": {},
   "outputs": [
    {
     "name": "stdout",
     "output_type": "stream",
     "text": [
      "iteration 0 / 1500: loss 411.715570\n",
      "iteration 100 / 1500: loss 243.731409\n",
      "iteration 200 / 1500: loss 147.442882\n",
      "iteration 300 / 1500: loss 91.117526\n",
      "iteration 400 / 1500: loss 57.405433\n",
      "iteration 500 / 1500: loss 36.092636\n",
      "iteration 600 / 1500: loss 23.747486\n",
      "iteration 700 / 1500: loss 16.415880\n",
      "iteration 800 / 1500: loss 12.169568\n",
      "iteration 900 / 1500: loss 9.221275\n",
      "iteration 1000 / 1500: loss 7.232635\n",
      "iteration 1100 / 1500: loss 6.190983\n",
      "iteration 1200 / 1500: loss 5.762342\n",
      "iteration 1300 / 1500: loss 5.290655\n",
      "iteration 1400 / 1500: loss 5.562233\n",
      "This took 5.939124s\n"
     ]
    }
   ],
   "source": [
    "tic = time.time()\n",
    "W, loss_hist = train_SGD(X_train, y_train, learning_rate=1e-7, reg=2.5e4,\n",
    "                      num_iters=1500, verbose=True)\n",
    "toc = time.time()\n",
    "print('This took %fs' % (toc - tic))"
   ]
  },
  {
   "cell_type": "markdown",
   "metadata": {},
   "source": [
    "# Check: Prediction [0pt]\n",
    "\n",
    "The next two cells define and run the predict function. "
   ]
  },
  {
   "cell_type": "code",
   "execution_count": 9,
   "metadata": {},
   "outputs": [],
   "source": [
    "def predict(W, X):\n",
    "    \"\"\"\n",
    "    Use the trained weights of this linear classifier to predict labels for\n",
    "    data points.\n",
    "\n",
    "    Inputs:\n",
    "    - W: A numpy array of shape (D, C) containing weights\n",
    "    - X: A numpy array of shape (N, D) containing training data; there are N\n",
    "      training samples each of dimension D.\n",
    "\n",
    "    Returns:\n",
    "    - y_pred: Predicted labels for the data in X. y_pred is a 1-dimensional\n",
    "      array of length N, and each element is an integer giving the predicted\n",
    "      class.\n",
    "    \"\"\"\n",
    "    y_pred = np.zeros(X.shape[0])\n",
    "    y_pred = np.argmax(np.dot(X,W),axis=1)\n",
    "    return y_pred"
   ]
  },
  {
   "cell_type": "code",
   "execution_count": 10,
   "metadata": {
    "scrolled": true
   },
   "outputs": [
    {
     "name": "stdout",
     "output_type": "stream",
     "text": [
      "training accuracy: 0.380857\n",
      "validation accuracy: 0.392000\n"
     ]
    }
   ],
   "source": [
    "# Write the predict function and evaluate the performance on both the\n",
    "# training and validation set\n",
    "y_train_pred = predict(W,X_train)\n",
    "print('training accuracy: %f' % np.mean(y_train == y_train_pred))\n",
    "y_val_pred = predict(W,X_val)\n",
    "print('validation accuracy: %f' % np.mean(y_val == y_val_pred))"
   ]
  },
  {
   "cell_type": "markdown",
   "metadata": {},
   "source": [
    "# Task 3: Hyperparameter Tuning [5pt]\n",
    "\n",
    "Follow the instructions in the comments and run a hyperparameter tuning adapted to a SVM."
   ]
  },
  {
   "cell_type": "code",
   "execution_count": 11,
   "metadata": {},
   "outputs": [
    {
     "name": "stdout",
     "output_type": "stream",
     "text": [
      "iteration 0 / 1000: loss 409.008767\n",
      "iteration 100 / 1000: loss 244.233364\n",
      "iteration 200 / 1000: loss 148.526994\n",
      "iteration 300 / 1000: loss 91.983394\n",
      "iteration 400 / 1000: loss 56.522681\n",
      "iteration 500 / 1000: loss 36.087283\n",
      "iteration 600 / 1000: loss 23.969540\n",
      "iteration 700 / 1000: loss 16.447731\n",
      "iteration 800 / 1000: loss 12.095388\n",
      "iteration 900 / 1000: loss 9.059795\n",
      "iteration 0 / 1000: loss 781.065609\n",
      "iteration 100 / 1000: loss 284.965591\n",
      "iteration 200 / 1000: loss 106.800077\n",
      "iteration 300 / 1000: loss 42.078901\n",
      "iteration 400 / 1000: loss 19.091795\n",
      "iteration 500 / 1000: loss 10.016716\n",
      "iteration 600 / 1000: loss 7.554132\n",
      "iteration 700 / 1000: loss 6.265737\n",
      "iteration 800 / 1000: loss 5.472833\n",
      "iteration 900 / 1000: loss 5.779582\n",
      "iteration 0 / 1000: loss 410.868049\n",
      "iteration 100 / 1000: loss 311.896826\n",
      "iteration 200 / 1000: loss 242.491142\n",
      "iteration 300 / 1000: loss 190.147466\n",
      "iteration 400 / 1000: loss 148.111684\n",
      "iteration 500 / 1000: loss 116.436071\n",
      "iteration 600 / 1000: loss 91.149400\n",
      "iteration 700 / 1000: loss 71.719821\n",
      "iteration 800 / 1000: loss 57.011020\n",
      "iteration 900 / 1000: loss 45.373002\n",
      "iteration 0 / 1000: loss 789.968269\n",
      "iteration 100 / 1000: loss 475.536927\n",
      "iteration 200 / 1000: loss 287.919439\n",
      "iteration 300 / 1000: loss 175.382952\n",
      "iteration 400 / 1000: loss 108.457652\n",
      "iteration 500 / 1000: loss 67.318970\n",
      "iteration 600 / 1000: loss 42.953580\n",
      "iteration 700 / 1000: loss 27.759429\n",
      "iteration 800 / 1000: loss 19.028776\n",
      "iteration 900 / 1000: loss 13.280679\n",
      "iteration 0 / 1000: loss 405.516189\n",
      "iteration 100 / 1000: loss 381.368849\n",
      "iteration 200 / 1000: loss 362.854768\n",
      "iteration 300 / 1000: loss 341.393154\n",
      "iteration 400 / 1000: loss 326.411741\n",
      "iteration 500 / 1000: loss 308.559548\n",
      "iteration 600 / 1000: loss 294.345433\n",
      "iteration 700 / 1000: loss 279.648707\n",
      "iteration 800 / 1000: loss 264.524201\n",
      "iteration 900 / 1000: loss 253.644225\n",
      "iteration 0 / 1000: loss 787.080684\n",
      "iteration 100 / 1000: loss 711.106861\n",
      "iteration 200 / 1000: loss 642.467102\n",
      "iteration 300 / 1000: loss 579.163907\n",
      "iteration 400 / 1000: loss 522.642715\n",
      "iteration 500 / 1000: loss 473.914124\n",
      "iteration 600 / 1000: loss 428.888514\n",
      "iteration 700 / 1000: loss 389.180601\n",
      "iteration 800 / 1000: loss 352.573695\n",
      "iteration 900 / 1000: loss 318.966734\n",
      "lr 1.000000e-08 reg 2.500000e+04 train accuracy: 0.216163 val accuracy: 0.213000\n",
      "lr 1.000000e-08 reg 5.000000e+04 train accuracy: 0.223633 val accuracy: 0.235000\n",
      "lr 5.000000e-08 reg 2.500000e+04 train accuracy: 0.333408 val accuracy: 0.351000\n",
      "lr 5.000000e-08 reg 5.000000e+04 train accuracy: 0.367429 val accuracy: 0.382000\n",
      "lr 1.000000e-07 reg 2.500000e+04 train accuracy: 0.372204 val accuracy: 0.370000\n",
      "lr 1.000000e-07 reg 5.000000e+04 train accuracy: 0.365633 val accuracy: 0.369000\n",
      "best validation accuracy achieved during cross-validation: 0.382000\n"
     ]
    }
   ],
   "source": [
    "# Use the validation set to tune hyperparameters (regularization strength and\n",
    "# learning rate). You should experiment with different ranges for the learning\n",
    "# rates and regularization strengths; if you are careful you should be able to\n",
    "# get a classification accuracy of about 0.4 on the validation set.\n",
    "learning_rates = [1e-7, 5e-8, 1e-8]\n",
    "regularization_strengths = [2.5e4, 5e4]\n",
    "\n",
    "# results is dictionary mapping tuples of the form\n",
    "# (learning_rate, regularization_strength) to tuples of the form\n",
    "# (training_accuracy, validation_accuracy). The accuracy is simply the fraction\n",
    "# of data points that are correctly classified.\n",
    "results = {}\n",
    "best_val = -1   # The highest validation accuracy that we have seen so far.\n",
    "best_W = None # The LinearSVM object that achieved the highest validation rate.\n",
    "\n",
    "################################################################################\n",
    "# TODO:                                                                        #\n",
    "# Write code that chooses the best hyperparameters by tuning on the validation #\n",
    "# set. For each combination of hyperparameters, train a linear SVM on the      #\n",
    "# training set, compute its accuracy on the training and validation sets, and  #\n",
    "# store these numbers in the results dictionary. In addition, store the best   #\n",
    "# validation accuracy in best_val and the LinearSVM object that achieves this  #\n",
    "# accuracy in best_svm.                                                        #\n",
    "#                                                                              #\n",
    "# Hint: You should use a small value for num_iters as you develop your         #\n",
    "# validation code so that the SVMs don't take much time to train; once you are #\n",
    "# confident that your validation code works, you should rerun the validation   #\n",
    "# code with a larger value for num_iters.                                      #\n",
    "################################################################################\n",
    "# from cs231n.classifiers import LinearSVM\n",
    "\n",
    "\n",
    "for lr in learning_rates:\n",
    "    for reg in regularization_strengths:\n",
    "        W, loss_hist = train_SGD(X_train, y_train, learning_rate=lr, reg=reg,\n",
    "                              num_iters=1000, verbose=True)\n",
    "        train_pred =  predict(W,X_train)\n",
    "        train_ac = np.mean(y_train == train_pred)\n",
    "        val_pred = predict(W,X_val)\n",
    "        val_ac = np.mean(y_val == val_pred)\n",
    "        results[(lr, reg)] = (train_ac, val_ac)\n",
    "        if(best_val < val_ac):\n",
    "            best_val = val_ac\n",
    "            best_W = W\n",
    "\n",
    "################################################################################\n",
    "#                              END OF YOUR CODE                                #\n",
    "################################################################################\n",
    "    \n",
    "# Print out results.\n",
    "for lr, reg in sorted(results):\n",
    "    train_accuracy, val_accuracy = results[(lr, reg)]\n",
    "    print('lr %e reg %e train accuracy: %f val accuracy: %f' % (\n",
    "                lr, reg, train_accuracy, val_accuracy))\n",
    "    \n",
    "print('best validation accuracy achieved during cross-validation: %f' % best_val)"
   ]
  },
  {
   "cell_type": "markdown",
   "metadata": {},
   "source": [
    "# Check: Test Accuracy and Weight Visualization [0pt]\n",
    "\n",
    "Run the next cell to try your SVM implementation on unseen test data. Accuracy should be around 0.35.\n",
    "The last cell displays the (rescaled) weights your SVM has learned for each class."
   ]
  },
  {
   "cell_type": "code",
   "execution_count": 12,
   "metadata": {},
   "outputs": [
    {
     "name": "stdout",
     "output_type": "stream",
     "text": [
      "linear SVM on raw pixels final test set accuracy: 0.363000\n"
     ]
    }
   ],
   "source": [
    "# Evaluate the best svm on test set\n",
    "y_test_pred = predict(best_W,X_test)\n",
    "test_accuracy = np.mean(y_test == y_test_pred)\n",
    "print('linear SVM on raw pixels final test set accuracy: %f' % test_accuracy)"
   ]
  },
  {
   "cell_type": "code",
   "execution_count": 13,
   "metadata": {},
   "outputs": [
    {
     "data": {
      "image/png": "[encoded data removed]",
      "text/plain": [
       "<Figure size 432x288 with 10 Axes>"
      ]
     },
     "metadata": {
      "needs_background": "light"
     },
     "output_type": "display_data"
    }
   ],
   "source": [
    "# Visualize the learned weights for each class.\n",
    "# Depending on your choice of learning rate and regularization strength, these may\n",
    "# or may not be nice to look at.\n",
    "w = best_W[:-1,:] # strip out the bias\n",
    "w = w.reshape(32, 32, 3, 10)\n",
    "w_min, w_max = np.min(w), np.max(w)\n",
    "classes = ['plane', 'car', 'bird', 'cat', 'deer', 'dog', 'frog', 'horse', 'ship', 'truck']\n",
    "for i in range(10):\n",
    "    plt.subplot(2, 5, i + 1)\n",
    "      \n",
    "    # Rescale the weights to be between 0 and 255\n",
    "    wimg = 255.0 * (w[:, :, :, i].squeeze() - w_min) / (w_max - w_min)\n",
    "    plt.imshow(wimg.astype('uint8'))\n",
    "    plt.axis('off')\n",
    "    plt.title(classes[i])"
   ]
  },
  {
   "cell_type": "code",
   "execution_count": null,
   "metadata": {},
   "outputs": [],
   "source": []
  },
  {
   "cell_type": "code",
   "execution_count": null,
   "metadata": {},
   "outputs": [],
   "source": []
  }
 ],
 "metadata": {
  "kernelspec": {
   "display_name": "Python 3",
   "language": "python",
   "name": "python3"
  },
  "language_info": {
   "codemirror_mode": {
    "name": "ipython",
    "version": 3
   },
   "file_extension": ".py",
   "mimetype": "text/x-python",
   "name": "python",
   "nbconvert_exporter": "python",
   "pygments_lexer": "ipython3",
   "version": "3.7.0"
  }
 },
 "nbformat": 4,
 "nbformat_minor": 2
}
