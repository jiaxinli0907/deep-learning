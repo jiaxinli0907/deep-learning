{
 "cells": [
  {
   "cell_type": "markdown",
   "metadata": {},
   "source": [
    "# Dropout\n",
    "\n",
    "Welcome to the 6th week of deep learning programming!\n",
    "\n",
    "So far we have worked with deep fully-connected networks, using them to explore different optimization strategies and network architectures. Fully-connected networks are a good testbed for experimentation because they are very computationally efficient, but in practice all state-of-the-art results use convolutional networks instead.\n",
    "\n",
    "In this week you will implement convolutional and max pooling layers in `ex06_conv_layer` and dropout layer in `ex06_dropout_layer`.\n",
    "\n",
    "\n",
    "Dropout [1] is a technique for regularizing neural networks by randomly setting some features to zero during the forward pass.\n",
    "\n",
    "[1] Geoffrey E. Hinton et al, \"Improving neural networks by preventing co-adaptation of feature detectors\", arXiv 2012"
   ]
  },
  {
   "cell_type": "code",
   "execution_count": 1,
   "metadata": {},
   "outputs": [],
   "source": [
    "# As usual, a bit of setup\n",
    "from __future__ import print_function\n",
    "import time\n",
    "import numpy as np\n",
    "import matplotlib.pyplot as plt\n",
    "from utils.fc_net import *\n",
    "from utils.layers import *\n",
    "from utils.data_utils import get_CIFAR10_data\n",
    "from utils.gradient_check import eval_numerical_gradient, eval_numerical_gradient_array\n",
    "from utils.solver import Solver\n",
    "\n",
    "%matplotlib inline\n",
    "plt.rcParams['figure.figsize'] = (10.0, 8.0) # set default size of plots\n",
    "plt.rcParams['image.interpolation'] = 'nearest'\n",
    "plt.rcParams['image.cmap'] = 'gray'\n",
    "\n",
    "\n",
    "%load_ext autoreload\n",
    "%autoreload 2\n",
    "\n",
    "def rel_error(x, y):\n",
    "    \"\"\" returns relative error \"\"\"\n",
    "    return np.max(np.abs(x - y) / (np.maximum(1e-8, np.abs(x) + np.abs(y))))"
   ]
  },
  {
   "cell_type": "code",
   "execution_count": 2,
   "metadata": {},
   "outputs": [
    {
     "name": "stdout",
     "output_type": "stream",
     "text": [
      "X_train:  (49000, 3, 32, 32)\n",
      "y_train:  (49000,)\n",
      "X_val:  (1000, 3, 32, 32)\n",
      "y_val:  (1000,)\n",
      "X_test:  (1000, 3, 32, 32)\n",
      "y_test:  (1000,)\n"
     ]
    }
   ],
   "source": [
    "# Load the (preprocessed) CIFAR10 data.\n",
    "data = get_CIFAR10_data()\n",
    "for k, v in data.items():\n",
    "    print('%s: ' % k, v.shape)"
   ]
  },
  {
   "cell_type": "markdown",
   "metadata": {},
   "source": [
    "# Dropout forward pass (5pt)\n",
    "In the file `utils/layers.py`, implement the forward pass for dropout. Since dropout behaves differently during training and testing, make sure to implement the operation for both modes.\n",
    "\n",
    "Once you have done so, run the cell below to test your implementation."
   ]
  },
  {
   "cell_type": "code",
   "execution_count": 3,
   "metadata": {},
   "outputs": [
    {
     "name": "stdout",
     "output_type": "stream",
     "text": [
      "Running tests with p =  0.3\n",
      "Mean of input:  10.000207878477502\n",
      "Mean of train-time output:  10.035072797050494\n",
      "Mean of test-time output:  10.000207878477502\n",
      "Fraction of train-time output set to zero:  0.699124\n",
      "Fraction of test-time output set to zero:  0.0\n",
      "\n",
      "Running tests with p =  0.6\n",
      "Mean of input:  10.000207878477502\n",
      "Mean of train-time output:  9.976910758765856\n",
      "Mean of test-time output:  10.000207878477502\n",
      "Fraction of train-time output set to zero:  0.401368\n",
      "Fraction of test-time output set to zero:  0.0\n",
      "\n",
      "Running tests with p =  0.75\n",
      "Mean of input:  10.000207878477502\n",
      "Mean of train-time output:  9.993068588261146\n",
      "Mean of test-time output:  10.000207878477502\n",
      "Fraction of train-time output set to zero:  0.250496\n",
      "Fraction of test-time output set to zero:  0.0\n",
      "\n"
     ]
    }
   ],
   "source": [
    "np.random.seed(231)\n",
    "x = np.random.randn(500, 500) + 10\n",
    "\n",
    "for p in [0.3, 0.6, 0.75]:\n",
    "    out, _ = dropout_forward(x, {'mode': 'train', 'p': p})\n",
    "    out_test, _ = dropout_forward(x, {'mode': 'test', 'p': p})\n",
    "    \n",
    "    print('Running tests with p = ', p)\n",
    "    print('Mean of input: ', x.mean())\n",
    "    print('Mean of train-time output: ', out.mean())\n",
    "    print('Mean of test-time output: ', out_test.mean())\n",
    "    print('Fraction of train-time output set to zero: ', (out == 0).mean())\n",
    "    print('Fraction of test-time output set to zero: ', (out_test == 0).mean())\n",
    "    print()"
   ]
  },
  {
   "cell_type": "markdown",
   "metadata": {},
   "source": [
    "# Dropout backward pass (3pt)\n",
    "In the file `utils/layers.py`, implement the backward pass for dropout. After doing so, run the following cell to numerically gradient-check your implementation."
   ]
  },
  {
   "cell_type": "code",
   "execution_count": 4,
   "metadata": {},
   "outputs": [
    {
     "name": "stdout",
     "output_type": "stream",
     "text": [
      "dx relative error:  5.445612718272284e-11\n"
     ]
    }
   ],
   "source": [
    "np.random.seed(231)\n",
    "x = np.random.randn(10, 10) + 10\n",
    "dout = np.random.randn(*x.shape)\n",
    "\n",
    "dropout_param = {'mode': 'train', 'p': 0.8, 'seed': 123}\n",
    "out, cache = dropout_forward(x, dropout_param)\n",
    "dx = dropout_backward(dout, cache)\n",
    "dx_num = eval_numerical_gradient_array(lambda xx: dropout_forward(xx, dropout_param)[0], x, dout)\n",
    "\n",
    "print('dx relative error: ', rel_error(dx, dx_num))"
   ]
  },
  {
   "cell_type": "markdown",
   "metadata": {},
   "source": [
    "# Regularization experiment\n",
    "As an experiment, we will train a pair of two-layer networks on 500 training examples: one will use no dropout (p=1), and one will use a dropout probability of 0.25. We will then visualize the training and validation accuracies of the two networks over time."
   ]
  },
  {
   "cell_type": "code",
   "execution_count": 5,
   "metadata": {
    "scrolled": false
   },
   "outputs": [
    {
     "name": "stdout",
     "output_type": "stream",
     "text": [
      "1\n",
      "(Iteration 1 / 125) loss: 7.856643\n",
      "(Epoch 0 / 25) train acc: 0.274000; val_acc: 0.192000\n",
      "(Epoch 1 / 25) train acc: 0.368000; val_acc: 0.238000\n",
      "(Epoch 2 / 25) train acc: 0.540000; val_acc: 0.239000\n",
      "(Epoch 3 / 25) train acc: 0.628000; val_acc: 0.251000\n",
      "(Epoch 4 / 25) train acc: 0.718000; val_acc: 0.268000\n",
      "(Epoch 5 / 25) train acc: 0.726000; val_acc: 0.283000\n",
      "(Epoch 6 / 25) train acc: 0.782000; val_acc: 0.267000\n",
      "(Epoch 7 / 25) train acc: 0.864000; val_acc: 0.285000\n",
      "(Epoch 8 / 25) train acc: 0.852000; val_acc: 0.263000\n",
      "(Epoch 9 / 25) train acc: 0.938000; val_acc: 0.301000\n",
      "(Epoch 10 / 25) train acc: 0.922000; val_acc: 0.297000\n",
      "(Epoch 11 / 25) train acc: 0.934000; val_acc: 0.268000\n",
      "(Epoch 12 / 25) train acc: 0.928000; val_acc: 0.270000\n",
      "(Epoch 13 / 25) train acc: 0.964000; val_acc: 0.282000\n",
      "(Epoch 14 / 25) train acc: 0.974000; val_acc: 0.284000\n",
      "(Epoch 15 / 25) train acc: 0.974000; val_acc: 0.286000\n",
      "(Epoch 16 / 25) train acc: 0.968000; val_acc: 0.268000\n",
      "(Epoch 17 / 25) train acc: 0.964000; val_acc: 0.266000\n",
      "(Epoch 18 / 25) train acc: 0.986000; val_acc: 0.297000\n",
      "(Epoch 19 / 25) train acc: 0.970000; val_acc: 0.292000\n",
      "(Epoch 20 / 25) train acc: 0.986000; val_acc: 0.301000\n",
      "(Iteration 101 / 125) loss: 0.033966\n",
      "(Epoch 21 / 25) train acc: 0.980000; val_acc: 0.299000\n",
      "(Epoch 22 / 25) train acc: 0.984000; val_acc: 0.299000\n",
      "(Epoch 23 / 25) train acc: 0.984000; val_acc: 0.293000\n",
      "(Epoch 24 / 25) train acc: 0.946000; val_acc: 0.302000\n",
      "(Epoch 25 / 25) train acc: 0.976000; val_acc: 0.302000\n",
      "0.25\n",
      "(Iteration 1 / 125) loss: 17.045780\n",
      "(Epoch 0 / 25) train acc: 0.208000; val_acc: 0.186000\n",
      "(Epoch 1 / 25) train acc: 0.380000; val_acc: 0.217000\n",
      "(Epoch 2 / 25) train acc: 0.450000; val_acc: 0.288000\n",
      "(Epoch 3 / 25) train acc: 0.478000; val_acc: 0.276000\n",
      "(Epoch 4 / 25) train acc: 0.578000; val_acc: 0.326000\n",
      "(Epoch 5 / 25) train acc: 0.576000; val_acc: 0.303000\n",
      "(Epoch 6 / 25) train acc: 0.660000; val_acc: 0.316000\n",
      "(Epoch 7 / 25) train acc: 0.674000; val_acc: 0.316000\n",
      "(Epoch 8 / 25) train acc: 0.692000; val_acc: 0.304000\n",
      "(Epoch 9 / 25) train acc: 0.734000; val_acc: 0.303000\n",
      "(Epoch 10 / 25) train acc: 0.738000; val_acc: 0.295000\n",
      "(Epoch 11 / 25) train acc: 0.778000; val_acc: 0.291000\n",
      "(Epoch 12 / 25) train acc: 0.788000; val_acc: 0.298000\n",
      "(Epoch 13 / 25) train acc: 0.766000; val_acc: 0.301000\n",
      "(Epoch 14 / 25) train acc: 0.798000; val_acc: 0.296000\n",
      "(Epoch 15 / 25) train acc: 0.812000; val_acc: 0.318000\n",
      "(Epoch 16 / 25) train acc: 0.850000; val_acc: 0.326000\n",
      "(Epoch 17 / 25) train acc: 0.810000; val_acc: 0.311000\n",
      "(Epoch 18 / 25) train acc: 0.838000; val_acc: 0.317000\n",
      "(Epoch 19 / 25) train acc: 0.840000; val_acc: 0.300000\n",
      "(Epoch 20 / 25) train acc: 0.882000; val_acc: 0.323000\n",
      "(Iteration 101 / 125) loss: 6.756728\n",
      "(Epoch 21 / 25) train acc: 0.872000; val_acc: 0.315000\n",
      "(Epoch 22 / 25) train acc: 0.884000; val_acc: 0.313000\n",
      "(Epoch 23 / 25) train acc: 0.898000; val_acc: 0.294000\n",
      "(Epoch 24 / 25) train acc: 0.906000; val_acc: 0.320000\n",
      "(Epoch 25 / 25) train acc: 0.906000; val_acc: 0.290000\n"
     ]
    }
   ],
   "source": [
    "# Train two identical nets, one with dropout and one without\n",
    "np.random.seed(231)\n",
    "num_train = 500\n",
    "small_data = {\n",
    "  'X_train': data['X_train'][:num_train],\n",
    "  'y_train': data['y_train'][:num_train],\n",
    "  'X_val': data['X_val'],\n",
    "  'y_val': data['y_val'],\n",
    "}\n",
    "\n",
    "solvers = {}\n",
    "dropout_choices = [1, 0.25]\n",
    "for dropout in dropout_choices:\n",
    "    model = FullyConnectedNet([500], dropout=dropout)\n",
    "    print(dropout)\n",
    "    \n",
    "    solver = Solver(model, small_data,\n",
    "                    num_epochs=25, batch_size=100,\n",
    "                    update_rule='adam',\n",
    "                    optim_config={\n",
    "                        'learning_rate': 5e-4,\n",
    "                    },\n",
    "                    verbose=True, print_every=100)\n",
    "    solver.train()\n",
    "    solvers[dropout] = solver"
   ]
  },
  {
   "cell_type": "code",
   "execution_count": 6,
   "metadata": {},
   "outputs": [
    {
     "data": {
      "image/png": "[encoded data removed]",
      "text/plain": [
       "<Figure size 1080x1080 with 2 Axes>"
      ]
     },
     "metadata": {
      "needs_background": "light"
     },
     "output_type": "display_data"
    }
   ],
   "source": [
    "# Plot train and validation accuracies of the two models\n",
    "\n",
    "train_accs = []\n",
    "val_accs = []\n",
    "for dropout in dropout_choices:\n",
    "    solver = solvers[dropout]\n",
    "    train_accs.append(solver.train_acc_history[-1])\n",
    "    val_accs.append(solver.val_acc_history[-1])\n",
    "\n",
    "plt.subplot(3, 1, 1)\n",
    "for dropout in dropout_choices:\n",
    "    plt.plot(solvers[dropout].train_acc_history, 'o', label='%.2f dropout' % dropout)\n",
    "plt.title('Train accuracy')\n",
    "plt.xlabel('Epoch')\n",
    "plt.ylabel('Accuracy')\n",
    "plt.legend(ncol=2, loc='lower right')\n",
    "  \n",
    "plt.subplot(3, 1, 2)\n",
    "for dropout in dropout_choices:\n",
    "    plt.plot(solvers[dropout].val_acc_history, 'o', label='%.2f dropout' % dropout)\n",
    "plt.title('Val accuracy')\n",
    "plt.xlabel('Epoch')\n",
    "plt.ylabel('Accuracy')\n",
    "plt.legend(ncol=2, loc='lower right')\n",
    "\n",
    "plt.gcf().set_size_inches(15, 15)\n",
    "plt.show()"
   ]
  },
  {
   "cell_type": "markdown",
   "metadata": {},
   "source": [
    "# Question (3pt)\n",
    "Explain what you see in this experiment. What does it suggest about dropout?"
   ]
  },
  {
   "cell_type": "markdown",
   "metadata": {},
   "source": [
    "# Answer\n"
   ]
  },
  {
   "cell_type": "markdown",
   "metadata": {},
   "source": [
    "Write your answer here!\n",
    "\n",
    "A proper dropout probability may avoid of overfitting and improve convergence speed. A very large probability makes the model tend to fully-connected model.A small dropout probability may lead to the insufficient training and the decrease of accuracy. We could tune this parameter with, for instance, grid search to find the optimal hyperparameter."
   ]
  },
  {
   "cell_type": "code",
   "execution_count": null,
   "metadata": {},
   "outputs": [],
   "source": []
  }
 ],
 "metadata": {
  "kernelspec": {
   "display_name": "Python 3",
   "language": "python",
   "name": "python3"
  },
  "language_info": {
   "codemirror_mode": {
    "name": "ipython",
    "version": 3
   },
   "file_extension": ".py",
   "mimetype": "text/x-python",
   "name": "python",
   "nbconvert_exporter": "python",
   "pygments_lexer": "ipython3",
   "version": "3.7.0"
  }
 },
 "nbformat": 4,
 "nbformat_minor": 1
}
